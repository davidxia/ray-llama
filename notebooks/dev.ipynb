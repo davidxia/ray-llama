{
 "cells": [
  {
   "cell_type": "markdown",
   "metadata": {},
   "source": [
    "# Running LLaMa from a notebook.\n",
    "\n",
    "To get started, start up your Ray cluster if it has not already been created:\n",
    "```\n",
    "ray up -y cluster/dev.yaml\n",
    "```\n",
    "\n",
    "You can monitor the status of the Ray cluster as follows:\n",
    "```\n",
    "ray monitor cluster/dev.yaml\n",
    "```\n",
    "\n",
    "Once the cluster is up, you'll need to connect ot the Ray cluster. For simplicity, you can run:\n",
    "```\n",
    "./scripts/get_cluster_ip.sh\n",
    "```\n",
    "\n",
    "which will print something like this:\n",
    "```\n",
    "$ ./get_cluster_ip.sh \n",
    "External IP address of the head node: 35.186.77.141\n",
    "Internal IP address of the head node: 10.130.0.107\n",
    "\n",
    "\n",
    "If developing from a notebook, connect to the Ray cluster as follows:\n",
    "\n",
    "import ray\n",
    "\n",
    "ray.init(\"ray://10.130.0.107:10001\")\n",
    "```\n"
   ]
  },
  {
   "cell_type": "code",
   "execution_count": null,
   "metadata": {},
   "outputs": [],
   "source": [
    "import ray\n",
    "\n",
    "runtime_env = {\n",
    "  \"working_dir\": \"../train\",\n",
    "}\n",
    "\n",
    "IP = \"\" # Fill this out\n",
    "ray.init(f\"ray://{IP}:10001\", runtime_env=runtime_env)"
   ]
  },
  {
   "cell_type": "markdown",
   "metadata": {},
   "source": [
    "The following code runs a simple LLaMa 2B training model on a single host TPU. "
   ]
  },
  {
   "cell_type": "code",
   "execution_count": null,
   "metadata": {},
   "outputs": [],
   "source": [
    "@ray.remote(resources={\"TPU\": 4})\n",
    "def init_and_run_hf():\n",
    "  from llama_hf import init_hf, train\n",
    "  # hf = Huggingface initialized objects, e.g.\n",
    "  # datasets, tokenizer, trainer, etc.\n",
    "  hf = init_hf(model_name=\"llama2/2B\")\n",
    "\n",
    "  return train(\n",
    "      training_args=hf[\"training_args\"],\n",
    "      data_args=hf[\"data_args\"],\n",
    "      trainer=hf[\"trainer\"],\n",
    "      train_dataset=hf[\"train_dataset\"])\n"
   ]
  },
  {
   "cell_type": "code",
   "execution_count": null,
   "metadata": {},
   "outputs": [],
   "source": [
    "try:\n",
    "  ray.get(init_and_run_hf.remote())\n",
    "except Exception as e:\n",
    "  print(f\"Caught failure {e}. Shutting down\")\n",
    "  ray.shutdown()"
   ]
  },
  {
   "cell_type": "code",
   "execution_count": null,
   "metadata": {},
   "outputs": [],
   "source": []
  }
 ],
 "metadata": {
  "language_info": {
   "name": "python"
  },
  "orig_nbformat": 4
 },
 "nbformat": 4,
 "nbformat_minor": 2
}
